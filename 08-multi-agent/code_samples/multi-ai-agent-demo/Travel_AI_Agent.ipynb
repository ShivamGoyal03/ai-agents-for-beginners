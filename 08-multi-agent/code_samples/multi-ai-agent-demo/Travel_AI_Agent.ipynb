{
 "cells": [
  {
   "cell_type": "markdown",
   "metadata": {},
   "source": [
    "# Travel Multi AI Agent "
   ]
  },
  {
   "cell_type": "markdown",
   "metadata": {},
   "source": [
    "## Introduction\n",
    "This notebook demonstrates a multi-agent system for travel planning using Azure AI Agents. \n",
    "The system consists of specialized agents (flight, hotel, restaurant, excursion) that work together\n",
    "to help users plan their travel. The implementation uses two main architectural layers:\n",
    "1. **Service Layer**: Individual specialized AI agents that provide domain-specific assistance\n",
    "2. **Orchestration Layer**: The coordination mechanism that manages agent interactions and conversations"
   ]
  },
  {
   "cell_type": "markdown",
   "metadata": {},
   "source": [
    "# What I'm Trying to Achieve\n",
    "\n",
    "This project aims to create an orchestrated multi-agent system for comprehensive travel planning. The system uses specialized agents (flight, hotel, restaurant, and excursion) that work together seamlessly to provide a complete travel planning experience. Rather than forcing users to interact with multiple separate assistants, this approach creates a cohesive conversation flow where each agent handles its specialized domain.\n",
    "\n",
    "## Challenges Faced\n",
    "\n",
    "While the system is functional, several challenges have emerged in the coordination and orchestration of the specialized agents. These include issues with agent selection logic, template rendering errors, and conversation flow management. Addressing these challenges is crucial to creating a seamless and efficient travel planning experience.\n",
    "\n",
    "\n",
    "## Blockers: Agent Coordination Challenges\n",
    "\n",
    "Several challenges have emerged:\n",
    "\n",
    "1. **Agent Selection Logic Issues**:\n",
    "   - The current selection strategy sometimes fails to properly parse agent names or select the correct next agent\n",
    "   - The orchestration prompts need fine-tuning to better understand conversation state\n",
    "\n",
    "2. **Template Rendering Errors**:\n",
    "   - Experiencing `TemplateRenderException` errors when trying to pass conversation context between agents\n",
    "   - Variable handling in templates (using `{{$lastmessage}}`) is inconsistent\n",
    "\n",
    "3. **Agent Response Processing**:\n",
    "   - Some agent responses are not being correctly formatted or displayed\n",
    "   - Need better parsing of response types and handling of multi-turn conversations\n",
    "\n",
    "4. **Conversation Flow Management**:\n",
    "   - Agents sometimes repeat information or fail to pick up where the previous agent left off\n",
    "   - Need better context preservation between agent transitions\n",
    "\n",
    "5. **Known Issues**\n",
    "   ```python\n",
    "   AgentChatException: Failed to select agent: Agent Failure - \n",
    "   Strategy unable to select next agent\n",
    "   ```\n",
    "   - Currently addressing agent selection and mapping\n",
    "   - Improving task completion detection\n",
    "\n",
    "## Desired Outcome\n",
    "\n",
    "The goal is to create a seamless experience where these specialized agents work together coherently, in an non sequential order, handling complex travel planning tasks that span multiple domains while maintaining conversation context."
   ]
  },
  {
   "cell_type": "code",
   "execution_count": null,
   "metadata": {},
   "outputs": [],
   "source": [
    "%pip install semantic-kernel[azure] --upgrade"
   ]
  },
  {
   "cell_type": "code",
   "execution_count": null,
   "metadata": {},
   "outputs": [],
   "source": [
    "%pip show semantic-kernel"
   ]
  },
  {
   "cell_type": "markdown",
   "metadata": {},
   "source": [
    "## Configuration\n",
    "Before running an Azure AI Agent, modify your .env file to include:\n",
    "\n",
    "```bash\n",
    "AZURE_AI_AGENT_PROJECT_CONNECTION_STRING = \"<example-connection-string>\"\n",
    "AZURE_AI_AGENT_MODEL_DEPLOYMENT_NAME = \"<example-model-deployment-name>\"\n",
    "```\n",
    "\n",
    "The Azure AI Agent will be able to connect to the Azure AI Platform and run the model deployment specified in the .env file."
   ]
  },
  {
   "cell_type": "code",
   "execution_count": 2,
   "metadata": {},
   "outputs": [
    {
     "data": {
      "text/plain": [
       "True"
      ]
     },
     "execution_count": 2,
     "metadata": {},
     "output_type": "execute_result"
    }
   ],
   "source": [
    "from azure.identity.aio import DefaultAzureCredential\n",
    "from dotenv import load_dotenv\n",
    "from semantic_kernel import Kernel\n",
    "from semantic_kernel.agents import AgentGroupChat\n",
    "from semantic_kernel.agents.azure_ai import AzureAIAgent, AzureAIAgentSettings\n",
    "from semantic_kernel.agents.strategies import (\n",
    "    KernelFunctionSelectionStrategy,\n",
    "    KernelFunctionTerminationStrategy,\n",
    ")\n",
    "import os\n",
    "from openai import AsyncOpenAI\n",
    "\n",
    "from semantic_kernel.contents import ChatHistoryTruncationReducer, ChatMessageContent\n",
    "from semantic_kernel.contents.utils.author_role import AuthorRole\n",
    "from semantic_kernel.functions.kernel_function_from_prompt import KernelFunctionFromPrompt\n",
    "from semantic_kernel.connectors.ai.open_ai import OpenAIChatCompletion\n",
    "\n",
    "\n",
    "# Load environment variables\n",
    "load_dotenv()"
   ]
  },
  {
   "cell_type": "markdown",
   "metadata": {},
   "source": [
    "## Service Layer Components\n",
    "\n",
    "These components represent the individual specialized agents that provide domain-specific functionality.\n",
    "Each agent is responsible for a specific travel-related task:\n",
    "\n",
    "- **Flight Agent**: Handles flight bookings and inquiries\n",
    "- **Hotel Agent**: Manages hotel accommodations\n",
    "- **Restaurant Agent**: Provides restaurant recommendations\n",
    "- **Excursion Agent**: Offers activity planning assistance"
   ]
  },
  {
   "cell_type": "code",
   "execution_count": 3,
   "metadata": {},
   "outputs": [],
   "source": [
    "# Define Agent IDs\n",
    "FLIGHT_AGENT = os.getenv(\"FLIGHT_AGENT\")\n",
    "HOTEL_AGENT = os.getenv(\"HOTEL_AGENT\")\n",
    "RESTAURANT_AGENT = os.getenv(\"RESTAURANT_AGENT\")\n",
    "EXCURSION_AGENT = os.getenv(\"EXCURSION_AGENT\")"
   ]
  },
  {
   "cell_type": "markdown",
   "metadata": {},
   "source": [
    "## Orchestration Layer Components\n",
    "\n",
    "The kernel and custom functions below comprise the orchestration layer that coordinates \n",
    "agent interactions and manages the overall conversation flow."
   ]
  },
  {
   "cell_type": "code",
   "execution_count": 8,
   "metadata": {},
   "outputs": [],
   "source": [
    "def create_kernel() -> Kernel:\n",
    "    \"\"\"Creates a Kernel instance with custom OpenAI ChatCompletion service.\"\"\"\n",
    "    client = AsyncOpenAI(\n",
    "        api_key=os.getenv(\"GITHUB_TOKEN\"),\n",
    "        base_url=\"https://models.inference.ai.azure.com/\"\n",
    "    )\n",
    "\n",
    "    kernel = Kernel()\n",
    "    chat_completion_service = OpenAIChatCompletion(\n",
    "        ai_model_id=\"gpt-4o-mini\",\n",
    "        async_client=client,\n",
    "        service_id=\"agent\",\n",
    "    )\n",
    "    kernel.add_service(chat_completion_service)\n",
    "    return kernel"
   ]
  },
  {
   "cell_type": "markdown",
   "metadata": {},
   "source": [
    "## Main Application Logic\n",
    "\n",
    "The main function initializes both service and orchestration layers and sets up the user interaction loop."
   ]
  },
  {
   "cell_type": "code",
   "execution_count": null,
   "metadata": {},
   "outputs": [
    {
     "name": "stdout",
     "output_type": "stream",
     "text": [
      "Ready! Type your input (or 'exit' to quit, 'reset' to restart).\n",
      "User > flight details from delhi to bengaluru for 20th March 2025\n",
      "# Flight_Agent: 'Hello! I'm here to assist you with your flight-related queries. It seems like you're looking to **search for flights** from Delhi to Bengaluru for the 20th of March, 2025. Could you confirm if this is a one-way trip or if you'd like to include a return date? If it's a round trip, please provide the return date as well!'\n"
     ]
    },
    {
     "name": "stderr",
     "output_type": "stream",
     "text": [
      "Failed to select agent: Agent Failure - Strategy unable to select next agent: arguments=None description=None id='asst_NmyVpGdP2K3gDbpRsZT1Zagt' instructions='You are FlightAgent, a virtual assistant specialized in handling flight-related queries. Your role includes assisting users with searching for flights, retrieving flight details, checking seat availability, and providing real-time flight status. Follow the instructions below to ensure clarity and effectiveness in your responses:\\n\\n### Task Instructions:\\n1. **Recognizing Intent**:\\n   - Identify the user\\'s intent based on their request, focusing on one of the following categories:\\n     - Searching for flights\\n     - Retrieving flight details using a flight ID\\n     - Checking seat availability for a specified flight\\n     - Providing real-time flight status using a flight number\\n   - If the intent is unclear, politely ask users to clarify or provide more details.\\n\\n2. **Processing Requests**:\\n   - Depending on the identified intent, perform the required task:\\n     - For flight searches: Request details such as origin, destination, departure date, and optionally return date.\\n     - For flight details: Request a valid flight ID.\\n     - For seat availability: Request the flight ID and date and validate inputs.\\n     - For flight status: Request a valid flight number.\\n   - Perform validations on provided data (e.g., formats of dates, flight numbers, or IDs). If the information is incomplete or invalid, return a friendly request for clarification.\\n\\n3. **Generating Responses**:\\n   - Use a tone that is friendly, concise, and supportive.\\n   - Provide clear and actionable suggestions based on the output of each task.\\n   - If no data is found or an error occurs, explain it to the user gently and offer alternative actions (e.g., refine search, try another query).\\n\\n### Example Interactive Dialogue:\\nUser Input: \"I want to search for flights from New York to Los Angeles.\"\\nAgent Response: \"Great! To help you find the best flights, could you let me know your departure date? Additionally, do you have a return date in mind?\"\\n\\nUser Input: \"Can you give me details for flight ID 12345?\"\\nAgent Response: \"Sure! Let me retrieve the detailed flight information for ID 12345. Please give me a moment...\"\\n\\n---\\n\\nInitiate the conversation by introducing yourself and inviting the user to ask for assistance. Tailor your follow-up responses based on the user\\'s intent and input.\\n' kernel=Kernel(retry_mechanism=PassThroughWithoutRetry(), services={}, ai_service_selector=<semantic_kernel.services.ai_service_selector.AIServiceSelector object at 0x00000199A21B2900>, plugins={}, function_invocation_filters=[], prompt_rendering_filters=[], auto_function_invocation_filters=[]) name='Flight_Agent' prompt_template=KernelPromptTemplate(prompt_template_config=PromptTemplateConfig(name='', description='', template='You are FlightAgent, a virtual assistant specialized in handling flight-related queries. Your role includes assisting users with searching for flights, retrieving flight details, checking seat availability, and providing real-time flight status. Follow the instructions below to ensure clarity and effectiveness in your responses:\\n\\n### Task Instructions:\\n1. **Recognizing Intent**:\\n   - Identify the user\\'s intent based on their request, focusing on one of the following categories:\\n     - Searching for flights\\n     - Retrieving flight details using a flight ID\\n     - Checking seat availability for a specified flight\\n     - Providing real-time flight status using a flight number\\n   - If the intent is unclear, politely ask users to clarify or provide more details.\\n\\n2. **Processing Requests**:\\n   - Depending on the identified intent, perform the required task:\\n     - For flight searches: Request details such as origin, destination, departure date, and optionally return date.\\n     - For flight details: Request a valid flight ID.\\n     - For seat availability: Request the flight ID and date and validate inputs.\\n     - For flight status: Request a valid flight number.\\n   - Perform validations on provided data (e.g., formats of dates, flight numbers, or IDs). If the information is incomplete or invalid, return a friendly request for clarification.\\n\\n3. **Generating Responses**:\\n   - Use a tone that is friendly, concise, and supportive.\\n   - Provide clear and actionable suggestions based on the output of each task.\\n   - If no data is found or an error occurs, explain it to the user gently and offer alternative actions (e.g., refine search, try another query).\\n\\n### Example Interactive Dialogue:\\nUser Input: \"I want to search for flights from New York to Los Angeles.\"\\nAgent Response: \"Great! To help you find the best flights, could you let me know your departure date? Additionally, do you have a return date in mind?\"\\n\\nUser Input: \"Can you give me details for flight ID 12345?\"\\nAgent Response: \"Sure! Let me retrieve the detailed flight information for ID 12345. Please give me a moment...\"\\n\\n---\\n\\nInitiate the conversation by introducing yourself and inviting the user to ask for assistance. Tailor your follow-up responses based on the user\\'s intent and input.\\n', template_format='semantic-kernel', input_variables=[], allow_dangerously_set_content=False, execution_settings={}), allow_dangerously_set_content=False) client=<azure.ai.projects.aio._patch.AIProjectClient object at 0x00000199A0993710> definition={'id': 'asst_NmyVpGdP2K3gDbpRsZT1Zagt', 'object': 'assistant', 'created_at': 1742124044, 'name': 'Flight_Agent', 'description': None, 'model': 'gpt-4o', 'instructions': 'You are FlightAgent, a virtual assistant specialized in handling flight-related queries. Your role includes assisting users with searching for flights, retrieving flight details, checking seat availability, and providing real-time flight status. Follow the instructions below to ensure clarity and effectiveness in your responses:\\n\\n### Task Instructions:\\n1. **Recognizing Intent**:\\n   - Identify the user\\'s intent based on their request, focusing on one of the following categories:\\n     - Searching for flights\\n     - Retrieving flight details using a flight ID\\n     - Checking seat availability for a specified flight\\n     - Providing real-time flight status using a flight number\\n   - If the intent is unclear, politely ask users to clarify or provide more details.\\n\\n2. **Processing Requests**:\\n   - Depending on the identified intent, perform the required task:\\n     - For flight searches: Request details such as origin, destination, departure date, and optionally return date.\\n     - For flight details: Request a valid flight ID.\\n     - For seat availability: Request the flight ID and date and validate inputs.\\n     - For flight status: Request a valid flight number.\\n   - Perform validations on provided data (e.g., formats of dates, flight numbers, or IDs). If the information is incomplete or invalid, return a friendly request for clarification.\\n\\n3. **Generating Responses**:\\n   - Use a tone that is friendly, concise, and supportive.\\n   - Provide clear and actionable suggestions based on the output of each task.\\n   - If no data is found or an error occurs, explain it to the user gently and offer alternative actions (e.g., refine search, try another query).\\n\\n### Example Interactive Dialogue:\\nUser Input: \"I want to search for flights from New York to Los Angeles.\"\\nAgent Response: \"Great! To help you find the best flights, could you let me know your departure date? Additionally, do you have a return date in mind?\"\\n\\nUser Input: \"Can you give me details for flight ID 12345?\"\\nAgent Response: \"Sure! Let me retrieve the detailed flight information for ID 12345. Please give me a moment...\"\\n\\n---\\n\\nInitiate the conversation by introducing yourself and inviting the user to ask for assistance. Tailor your follow-up responses based on the user\\'s intent and input.\\n', 'tools': [], 'top_p': 0.45, 'temperature': 0.41, 'tool_resources': {}, 'metadata': {}, 'response_format': 'auto'} polling_options=RunPollingOptions(default_polling_interval=datetime.timedelta(microseconds=250000), default_polling_backoff=datetime.timedelta(seconds=1), default_polling_backoff_threshold=2, default_message_synchronization_delay=datetime.timedelta(microseconds=250000), run_polling_interval=datetime.timedelta(microseconds=250000), run_polling_backoff=datetime.timedelta(seconds=1), run_polling_backoff_threshold=2, message_synchronization_delay=datetime.timedelta(microseconds=250000), run_polling_timeout=datetime.timedelta(seconds=60))\n"
     ]
    },
    {
     "ename": "AgentChatException",
     "evalue": "Failed to select agent",
     "output_type": "error",
     "traceback": [
      "\u001b[1;31m---------------------------------------------------------------------------\u001b[0m",
      "\u001b[1;31mAgentExecutionException\u001b[0m                   Traceback (most recent call last)",
      "File \u001b[1;32me:\\Coding Material\\Python Pr\\MLSA Blog\\GitHub\\ai-agents-for-beginners\\venv\\Lib\\site-packages\\semantic_kernel\\agents\\group_chat\\agent_group_chat.py:151\u001b[0m, in \u001b[0;36mAgentGroupChat.invoke\u001b[1;34m(self, agent, is_joining)\u001b[0m\n\u001b[0;32m    150\u001b[0m \u001b[38;5;28;01mtry\u001b[39;00m:\n\u001b[1;32m--> 151\u001b[0m     selected_agent \u001b[38;5;241m=\u001b[39m \u001b[38;5;28;01mawait\u001b[39;00m \u001b[38;5;28mself\u001b[39m\u001b[38;5;241m.\u001b[39mselection_strategy\u001b[38;5;241m.\u001b[39mnext(\u001b[38;5;28mself\u001b[39m\u001b[38;5;241m.\u001b[39magents, \u001b[38;5;28mself\u001b[39m\u001b[38;5;241m.\u001b[39mhistory\u001b[38;5;241m.\u001b[39mmessages)\n\u001b[0;32m    152\u001b[0m \u001b[38;5;28;01mexcept\u001b[39;00m \u001b[38;5;167;01mException\u001b[39;00m \u001b[38;5;28;01mas\u001b[39;00m ex:\n",
      "File \u001b[1;32me:\\Coding Material\\Python Pr\\MLSA Blog\\GitHub\\ai-agents-for-beginners\\venv\\Lib\\site-packages\\semantic_kernel\\agents\\strategies\\selection\\selection_strategy.py:43\u001b[0m, in \u001b[0;36mSelectionStrategy.next\u001b[1;34m(self, agents, history)\u001b[0m\n\u001b[0;32m     42\u001b[0m \u001b[38;5;28;01melse\u001b[39;00m:\n\u001b[1;32m---> 43\u001b[0m     agent \u001b[38;5;241m=\u001b[39m \u001b[38;5;28;01mawait\u001b[39;00m \u001b[38;5;28mself\u001b[39m\u001b[38;5;241m.\u001b[39mselect_agent(agents, history)\n\u001b[0;32m     45\u001b[0m \u001b[38;5;28mself\u001b[39m\u001b[38;5;241m.\u001b[39mhas_selected \u001b[38;5;241m=\u001b[39m \u001b[38;5;28;01mTrue\u001b[39;00m\n",
      "File \u001b[1;32me:\\Coding Material\\Python Pr\\MLSA Blog\\GitHub\\ai-agents-for-beginners\\venv\\Lib\\site-packages\\semantic_kernel\\agents\\strategies\\selection\\kernel_function_selection_strategy.py:114\u001b[0m, in \u001b[0;36mKernelFunctionSelectionStrategy.select_agent\u001b[1;34m(self, agents, history)\u001b[0m\n\u001b[0;32m    113\u001b[0m \u001b[38;5;28;01mif\u001b[39;00m agent_turn \u001b[38;5;129;01mis\u001b[39;00m \u001b[38;5;28;01mNone\u001b[39;00m:\n\u001b[1;32m--> 114\u001b[0m     \u001b[38;5;28;01mraise\u001b[39;00m AgentExecutionException(\u001b[38;5;124mf\u001b[39m\u001b[38;5;124m\"\u001b[39m\u001b[38;5;124mAgent Failure - Strategy unable to select next agent: \u001b[39m\u001b[38;5;132;01m{\u001b[39;00magent_name\u001b[38;5;132;01m}\u001b[39;00m\u001b[38;5;124m\"\u001b[39m)\n\u001b[0;32m    116\u001b[0m \u001b[38;5;28;01mreturn\u001b[39;00m agent_turn\n",
      "\u001b[1;31mAgentExecutionException\u001b[0m: Agent Failure - Strategy unable to select next agent: arguments=None description=None id='asst_NmyVpGdP2K3gDbpRsZT1Zagt' instructions='You are FlightAgent, a virtual assistant specialized in handling flight-related queries. Your role includes assisting users with searching for flights, retrieving flight details, checking seat availability, and providing real-time flight status. Follow the instructions below to ensure clarity and effectiveness in your responses:\\n\\n### Task Instructions:\\n1. **Recognizing Intent**:\\n   - Identify the user\\'s intent based on their request, focusing on one of the following categories:\\n     - Searching for flights\\n     - Retrieving flight details using a flight ID\\n     - Checking seat availability for a specified flight\\n     - Providing real-time flight status using a flight number\\n   - If the intent is unclear, politely ask users to clarify or provide more details.\\n\\n2. **Processing Requests**:\\n   - Depending on the identified intent, perform the required task:\\n     - For flight searches: Request details such as origin, destination, departure date, and optionally return date.\\n     - For flight details: Request a valid flight ID.\\n     - For seat availability: Request the flight ID and date and validate inputs.\\n     - For flight status: Request a valid flight number.\\n   - Perform validations on provided data (e.g., formats of dates, flight numbers, or IDs). If the information is incomplete or invalid, return a friendly request for clarification.\\n\\n3. **Generating Responses**:\\n   - Use a tone that is friendly, concise, and supportive.\\n   - Provide clear and actionable suggestions based on the output of each task.\\n   - If no data is found or an error occurs, explain it to the user gently and offer alternative actions (e.g., refine search, try another query).\\n\\n### Example Interactive Dialogue:\\nUser Input: \"I want to search for flights from New York to Los Angeles.\"\\nAgent Response: \"Great! To help you find the best flights, could you let me know your departure date? Additionally, do you have a return date in mind?\"\\n\\nUser Input: \"Can you give me details for flight ID 12345?\"\\nAgent Response: \"Sure! Let me retrieve the detailed flight information for ID 12345. Please give me a moment...\"\\n\\n---\\n\\nInitiate the conversation by introducing yourself and inviting the user to ask for assistance. Tailor your follow-up responses based on the user\\'s intent and input.\\n' kernel=Kernel(retry_mechanism=PassThroughWithoutRetry(), services={}, ai_service_selector=<semantic_kernel.services.ai_service_selector.AIServiceSelector object at 0x00000199A21B2900>, plugins={}, function_invocation_filters=[], prompt_rendering_filters=[], auto_function_invocation_filters=[]) name='Flight_Agent' prompt_template=KernelPromptTemplate(prompt_template_config=PromptTemplateConfig(name='', description='', template='You are FlightAgent, a virtual assistant specialized in handling flight-related queries. Your role includes assisting users with searching for flights, retrieving flight details, checking seat availability, and providing real-time flight status. Follow the instructions below to ensure clarity and effectiveness in your responses:\\n\\n### Task Instructions:\\n1. **Recognizing Intent**:\\n   - Identify the user\\'s intent based on their request, focusing on one of the following categories:\\n     - Searching for flights\\n     - Retrieving flight details using a flight ID\\n     - Checking seat availability for a specified flight\\n     - Providing real-time flight status using a flight number\\n   - If the intent is unclear, politely ask users to clarify or provide more details.\\n\\n2. **Processing Requests**:\\n   - Depending on the identified intent, perform the required task:\\n     - For flight searches: Request details such as origin, destination, departure date, and optionally return date.\\n     - For flight details: Request a valid flight ID.\\n     - For seat availability: Request the flight ID and date and validate inputs.\\n     - For flight status: Request a valid flight number.\\n   - Perform validations on provided data (e.g., formats of dates, flight numbers, or IDs). If the information is incomplete or invalid, return a friendly request for clarification.\\n\\n3. **Generating Responses**:\\n   - Use a tone that is friendly, concise, and supportive.\\n   - Provide clear and actionable suggestions based on the output of each task.\\n   - If no data is found or an error occurs, explain it to the user gently and offer alternative actions (e.g., refine search, try another query).\\n\\n### Example Interactive Dialogue:\\nUser Input: \"I want to search for flights from New York to Los Angeles.\"\\nAgent Response: \"Great! To help you find the best flights, could you let me know your departure date? Additionally, do you have a return date in mind?\"\\n\\nUser Input: \"Can you give me details for flight ID 12345?\"\\nAgent Response: \"Sure! Let me retrieve the detailed flight information for ID 12345. Please give me a moment...\"\\n\\n---\\n\\nInitiate the conversation by introducing yourself and inviting the user to ask for assistance. Tailor your follow-up responses based on the user\\'s intent and input.\\n', template_format='semantic-kernel', input_variables=[], allow_dangerously_set_content=False, execution_settings={}), allow_dangerously_set_content=False) client=<azure.ai.projects.aio._patch.AIProjectClient object at 0x00000199A0993710> definition={'id': 'asst_NmyVpGdP2K3gDbpRsZT1Zagt', 'object': 'assistant', 'created_at': 1742124044, 'name': 'Flight_Agent', 'description': None, 'model': 'gpt-4o', 'instructions': 'You are FlightAgent, a virtual assistant specialized in handling flight-related queries. Your role includes assisting users with searching for flights, retrieving flight details, checking seat availability, and providing real-time flight status. Follow the instructions below to ensure clarity and effectiveness in your responses:\\n\\n### Task Instructions:\\n1. **Recognizing Intent**:\\n   - Identify the user\\'s intent based on their request, focusing on one of the following categories:\\n     - Searching for flights\\n     - Retrieving flight details using a flight ID\\n     - Checking seat availability for a specified flight\\n     - Providing real-time flight status using a flight number\\n   - If the intent is unclear, politely ask users to clarify or provide more details.\\n\\n2. **Processing Requests**:\\n   - Depending on the identified intent, perform the required task:\\n     - For flight searches: Request details such as origin, destination, departure date, and optionally return date.\\n     - For flight details: Request a valid flight ID.\\n     - For seat availability: Request the flight ID and date and validate inputs.\\n     - For flight status: Request a valid flight number.\\n   - Perform validations on provided data (e.g., formats of dates, flight numbers, or IDs). If the information is incomplete or invalid, return a friendly request for clarification.\\n\\n3. **Generating Responses**:\\n   - Use a tone that is friendly, concise, and supportive.\\n   - Provide clear and actionable suggestions based on the output of each task.\\n   - If no data is found or an error occurs, explain it to the user gently and offer alternative actions (e.g., refine search, try another query).\\n\\n### Example Interactive Dialogue:\\nUser Input: \"I want to search for flights from New York to Los Angeles.\"\\nAgent Response: \"Great! To help you find the best flights, could you let me know your departure date? Additionally, do you have a return date in mind?\"\\n\\nUser Input: \"Can you give me details for flight ID 12345?\"\\nAgent Response: \"Sure! Let me retrieve the detailed flight information for ID 12345. Please give me a moment...\"\\n\\n---\\n\\nInitiate the conversation by introducing yourself and inviting the user to ask for assistance. Tailor your follow-up responses based on the user\\'s intent and input.\\n', 'tools': [], 'top_p': 0.45, 'temperature': 0.41, 'tool_resources': {}, 'metadata': {}, 'response_format': 'auto'} polling_options=RunPollingOptions(default_polling_interval=datetime.timedelta(microseconds=250000), default_polling_backoff=datetime.timedelta(seconds=1), default_polling_backoff_threshold=2, default_message_synchronization_delay=datetime.timedelta(microseconds=250000), run_polling_interval=datetime.timedelta(microseconds=250000), run_polling_backoff=datetime.timedelta(seconds=1), run_polling_backoff_threshold=2, message_synchronization_delay=datetime.timedelta(microseconds=250000), run_polling_timeout=datetime.timedelta(seconds=60))",
      "\nThe above exception was the direct cause of the following exception:\n",
      "\u001b[1;31mAgentChatException\u001b[0m                        Traceback (most recent call last)",
      "Cell \u001b[1;32mIn[9], line 167\u001b[0m\n\u001b[0;32m    164\u001b[0m             chat\u001b[38;5;241m.\u001b[39mis_complete \u001b[38;5;241m=\u001b[39m \u001b[38;5;28;01mFalse\u001b[39;00m\n\u001b[0;32m    166\u001b[0m \u001b[38;5;66;03m# Run the main function in the notebook\u001b[39;00m\n\u001b[1;32m--> 167\u001b[0m \u001b[38;5;28;01mawait\u001b[39;00m main()\n",
      "Cell \u001b[1;32mIn[9], line 160\u001b[0m, in \u001b[0;36mmain\u001b[1;34m()\u001b[0m\n\u001b[0;32m    157\u001b[0m \u001b[38;5;28mprint\u001b[39m(\u001b[38;5;124mf\u001b[39m\u001b[38;5;124m\"\u001b[39m\u001b[38;5;124mUser > \u001b[39m\u001b[38;5;132;01m{\u001b[39;00muser_input\u001b[38;5;132;01m}\u001b[39;00m\u001b[38;5;124m\"\u001b[39m)\n\u001b[0;32m    159\u001b[0m \u001b[38;5;66;03m# Invoke the group chat to get responses from agents\u001b[39;00m\n\u001b[1;32m--> 160\u001b[0m \u001b[38;5;28;01masync\u001b[39;00m \u001b[38;5;28;01mfor\u001b[39;00m response \u001b[38;5;129;01min\u001b[39;00m chat\u001b[38;5;241m.\u001b[39minvoke():\n\u001b[0;32m    161\u001b[0m     agent_name \u001b[38;5;241m=\u001b[39m response\u001b[38;5;241m.\u001b[39mname \u001b[38;5;28;01mif\u001b[39;00m \u001b[38;5;28mhasattr\u001b[39m(\n\u001b[0;32m    162\u001b[0m         response, \u001b[38;5;124m'\u001b[39m\u001b[38;5;124mname\u001b[39m\u001b[38;5;124m'\u001b[39m) \u001b[38;5;28;01melse\u001b[39;00m \u001b[38;5;124m'\u001b[39m\u001b[38;5;124m*\u001b[39m\u001b[38;5;124m'\u001b[39m\n\u001b[0;32m    163\u001b[0m     \u001b[38;5;28mprint\u001b[39m(\u001b[38;5;124mf\u001b[39m\u001b[38;5;124m\"\u001b[39m\u001b[38;5;124m# \u001b[39m\u001b[38;5;132;01m{\u001b[39;00magent_name\u001b[38;5;132;01m}\u001b[39;00m\u001b[38;5;124m: \u001b[39m\u001b[38;5;124m'\u001b[39m\u001b[38;5;132;01m{\u001b[39;00mresponse\u001b[38;5;241m.\u001b[39mcontent\u001b[38;5;132;01m}\u001b[39;00m\u001b[38;5;124m'\u001b[39m\u001b[38;5;124m\"\u001b[39m)\n",
      "File \u001b[1;32me:\\Coding Material\\Python Pr\\MLSA Blog\\GitHub\\ai-agents-for-beginners\\venv\\Lib\\site-packages\\semantic_kernel\\agents\\group_chat\\agent_group_chat.py:154\u001b[0m, in \u001b[0;36mAgentGroupChat.invoke\u001b[1;34m(self, agent, is_joining)\u001b[0m\n\u001b[0;32m    152\u001b[0m \u001b[38;5;28;01mexcept\u001b[39;00m \u001b[38;5;167;01mException\u001b[39;00m \u001b[38;5;28;01mas\u001b[39;00m ex:\n\u001b[0;32m    153\u001b[0m     logger\u001b[38;5;241m.\u001b[39merror(\u001b[38;5;124mf\u001b[39m\u001b[38;5;124m\"\u001b[39m\u001b[38;5;124mFailed to select agent: \u001b[39m\u001b[38;5;132;01m{\u001b[39;00mex\u001b[38;5;132;01m}\u001b[39;00m\u001b[38;5;124m\"\u001b[39m)\n\u001b[1;32m--> 154\u001b[0m     \u001b[38;5;28;01mraise\u001b[39;00m AgentChatException(\u001b[38;5;124m\"\u001b[39m\u001b[38;5;124mFailed to select agent\u001b[39m\u001b[38;5;124m\"\u001b[39m) \u001b[38;5;28;01mfrom\u001b[39;00m\u001b[38;5;250m \u001b[39m\u001b[38;5;21;01mex\u001b[39;00m\n\u001b[0;32m    156\u001b[0m \u001b[38;5;28;01masync\u001b[39;00m \u001b[38;5;28;01mfor\u001b[39;00m message \u001b[38;5;129;01min\u001b[39;00m \u001b[38;5;28msuper\u001b[39m()\u001b[38;5;241m.\u001b[39minvoke_agent(selected_agent):\n\u001b[0;32m    157\u001b[0m     \u001b[38;5;28;01mif\u001b[39;00m message\u001b[38;5;241m.\u001b[39mrole \u001b[38;5;241m==\u001b[39m AuthorRole\u001b[38;5;241m.\u001b[39mASSISTANT:\n",
      "\u001b[1;31mAgentChatException\u001b[0m: Failed to select agent"
     ]
    }
   ],
   "source": [
    "async def main():\n",
    "    ai_agent_settings = AzureAIAgentSettings.create()\n",
    "\n",
    "    # Initialize client and agents for specialized services\n",
    "    async with (\n",
    "        DefaultAzureCredential() as creds,\n",
    "        AzureAIAgent.create_client(\n",
    "            credential=creds\n",
    "        ) as client,\n",
    "    ):\n",
    "        # Get agent definitions and create agent instances for each specialized service\n",
    "        flight_agent = await client.agents.get_agent(assistant_id=FLIGHT_AGENT)\n",
    "        hotel_agent = await client.agents.get_agent(assistant_id=HOTEL_AGENT)\n",
    "        restaurant_agent = await client.agents.get_agent(assistant_id=RESTAURANT_AGENT)\n",
    "        excursion_agent = await client.agents.get_agent(assistant_id=EXCURSION_AGENT)\n",
    "\n",
    "        termination_agent_def = await client.agents.create_agent(\n",
    "        model=ai_agent_settings.model_deployment_name,\n",
    "        name=\"termination_agent\",\n",
    "        instructions=\"\"\"You are a specialized termination agent in a travel planning system. Your sole responsibility is to \n",
    "            determine when the travel planning conversation has reached a satisfactory conclusion.\n",
    "            \n",
    "            Thought: Analyze the conversation history carefully to determine if all the user's travel needs have been addressed. \n",
    "            Consider what specific travel aspects (flights, hotels, restaurants, activities) have been discussed and resolved.\n",
    "            \n",
    "            Prepare: Review the conversation for the following indicators:\n",
    "            - Has the user explicitly mentioned they are satisfied or done with planning?\n",
    "            - Have all relevant travel details been confirmed (dates, locations, preferences)?\n",
    "            - Has each specialized agent (flight, hotel, restaurant, excursion) completed their respective tasks?\n",
    "            - Are there any outstanding questions or unresolved issues that need addressing?\n",
    "            \n",
    "            Action:\n",
    "            Signal conversation termination ONLY when:\n",
    "            1. The user explicitly requests to end the conversation (keywords like \"thank you\", \"that's all\", \"we're done\")\n",
    "            2. All travel planning aspects have been adequately addressed:\n",
    "               - Flight details: dates, times, airlines, prices, booking confirmation\n",
    "               - Hotel accommodations: check-in/out dates, location, room type, booking confirmation\n",
    "               - Restaurant recommendations: options provided based on preferences/location\n",
    "               - Excursion/activities: suggestions aligned with travel dates/interests\n",
    "            3. The user has expressed satisfaction with the overall travel plan\n",
    "            4. There are no pending questions or requests from either the user or agents\n",
    "            \n",
    "            Your response must be exactly \"yes\" if the conversation should terminate, or \"no\" if it should continue.\"\"\",\n",
    "        )\n",
    "        \n",
    "        termination_agent = AzureAIAgent(\n",
    "            client=client,\n",
    "            definition=termination_agent_def\n",
    "        )\n",
    "        \n",
    "        # Create agent instances\n",
    "        flight_reviewer = AzureAIAgent(\n",
    "            client=client,\n",
    "            definition=flight_agent\n",
    "        )\n",
    "        hotel_reviewer = AzureAIAgent(\n",
    "            client=client,\n",
    "            definition=hotel_agent\n",
    "        )\n",
    "        restaurant_reviewer = AzureAIAgent(\n",
    "            client=client,\n",
    "            definition=restaurant_agent\n",
    "        )\n",
    "        excursion_reviewer = AzureAIAgent(\n",
    "            client=client,\n",
    "            definition=excursion_agent\n",
    "        )\n",
    "\n",
    "        # Create Semantic Kernel instance for group chat orchestration\n",
    "        kernel = create_kernel()\n",
    "\n",
    "        # Define selection function for determining which agent speaks next\n",
    "        selection_function = KernelFunctionFromPrompt(\n",
    "            function_name=\"selection\",\n",
    "            prompt=\"\"\"\n",
    "    You are an orchestrator for a multi-agent conversation. Your task is to analyze the latest message and determine if the current conversation should continue with the same agent or move to the next one.\n",
    "\n",
    "Rules:\n",
    "1. If the conversation is incomplete (waiting for user input or needs follow-up), keep the same agent.\n",
    "2. Only switch agents when the current agent has completed its task.\n",
    "3. The switching order is: flight_reviewer -> hotel_reviewer -> restaurant_reviewer -> excursion_reviewer\n",
    "\n",
    "Current agent order:\n",
    "- flight_reviewer (handles flight bookings and inquiries)\n",
    "- hotel_reviewer (handles hotel bookings)\n",
    "- restaurant_reviewer (handles restaurant recommendations)\n",
    "- excursion_reviewer (handles activity planning)\n",
    "\n",
    "Analyze the latest message and respond with ONLY the agent name that should speak next.\n",
    "Latest Message:\n",
    "{{$lastmessage}}\n",
    "\"\"\",\n",
    "        )\n",
    "\n",
    "        # Define termination conditions\n",
    "        termination_keyword = \"exit\"\n",
    "        termination_function = KernelFunctionFromPrompt(\n",
    "            function_name=\"termination\",\n",
    "            prompt=\"\"\"\n",
    "    Examine the RESPONSE and determine whether the content has been deemed satisfactory.\n",
    "    If the content is satisfactory, respond with a single word without explanation: yes.\n",
    "    If specific suggestions are being provided, it is not satisfactory.\n",
    "    If no correction is suggested, it is satisfactory.\n",
    "    RESPONSE:\n",
    "    {{$lastmessage}}\n",
    "    \"\"\",\n",
    "        )\n",
    "\n",
    "        # Configure history reducer to limit context size\n",
    "        history_reducer = ChatHistoryTruncationReducer(target_count=1)\n",
    "\n",
    "        # Set up the agent group chat with selection and termination strategies\n",
    "        chat = AgentGroupChat(\n",
    "            agents=[flight_reviewer, hotel_reviewer,\n",
    "                    restaurant_reviewer, excursion_reviewer],\n",
    "            selection_strategy=KernelFunctionSelectionStrategy(\n",
    "                initial_agent=flight_reviewer,\n",
    "                function=selection_function,\n",
    "                kernel=kernel,\n",
    "                history_variable_name=\"lastmessage\",\n",
    "                history_reducer=history_reducer,\n",
    "                result_parser=parse_agent_name  # Add the parser function\n",
    "            ),\n",
    "            termination_strategy=KernelFunctionTerminationStrategy(\n",
    "                # Use the dedicated termination agent for deciding when to end the conversation\n",
    "                agents=[termination_agent],\n",
    "                function=termination_function,\n",
    "                kernel=kernel,\n",
    "                result_parser=lambda result: str(result.value).lower().strip() == \"yes\" if result and hasattr(result, 'value') else False,\n",
    "                history_variable_name=\"lastmessage\",\n",
    "                maximum_iterations=10,\n",
    "                history_reducer=history_reducer,\n",
    "            ),\n",
    "        )\n",
    "\n",
    "        print(\"Ready! Type your input (or 'exit' to quit, 'reset' to restart).\")\n",
    "\n",
    "        # Main interaction loop\n",
    "        while True:\n",
    "            # user_input = input(\"User > \").strip()\n",
    "            user_input = \"flight details from delhi to bengaluru for 20th March 2025\"\n",
    "            if not user_input:\n",
    "                continue\n",
    "            if user_input.lower() == \"exit\":\n",
    "                break\n",
    "            if user_input.lower() == \"reset\":\n",
    "                await chat.reset()\n",
    "                print(\"[Conversation has been reset]\")\n",
    "                continue\n",
    "\n",
    "            # Add user input to the group chat context\n",
    "            await chat.add_chat_message(ChatMessageContent(role=AuthorRole.USER, content=user_input))\n",
    "            print(f\"User > {user_input}\")\n",
    "\n",
    "            # Invoke the group chat to get responses from agents\n",
    "            async for response in chat.invoke():\n",
    "                agent_name = response.name if hasattr(\n",
    "                    response, 'name') else '*'\n",
    "                print(f\"# {agent_name}: '{response.content}'\")\n",
    "            chat.is_complete = False\n",
    "\n",
    "# Run the main function in the notebook\n",
    "await main()"
   ]
  },
  {
   "cell_type": "code",
   "execution_count": null,
   "metadata": {},
   "outputs": [],
   "source": []
  }
 ],
 "metadata": {
  "kernelspec": {
   "display_name": "venv",
   "language": "python",
   "name": "python3"
  },
  "language_info": {
   "codemirror_mode": {
    "name": "ipython",
    "version": 3
   },
   "file_extension": ".py",
   "mimetype": "text/x-python",
   "name": "python",
   "nbconvert_exporter": "python",
   "pygments_lexer": "ipython3",
   "version": "3.12.4"
  }
 },
 "nbformat": 4,
 "nbformat_minor": 2
}
